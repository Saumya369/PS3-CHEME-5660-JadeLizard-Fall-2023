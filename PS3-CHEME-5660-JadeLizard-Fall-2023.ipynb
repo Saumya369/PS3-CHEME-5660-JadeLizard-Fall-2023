{
 "cells": [
  {
   "cell_type": "markdown",
   "id": "21bc684e-d346-4535-869b-4d3d46b9d288",
   "metadata": {},
   "source": [
    "# PS4: Compute the Profit Diagram for a Jade Lizard at Expiration\n",
    "The [Jade-Lizard](https://www.tastylive.com/concepts-strategies/jade-lizard) is a composite options trade consisting of three option legs. The [Jade-Lizard](https://www.tastylive.com/concepts-strategies/jade-lizard) was created by [tasty-traders Liz and Jny](https://www.tastylive.com/shows/tweeting-live-with-liz-jny). A Jade Lizard is a relatively simple and popular option strategy best deployed when the trader has a neutral (i.e., sideways or range-bound) to bullish view of a given security. The [Jade-Lizard](https://www.tastylive.com/concepts-strategies/jade-lizard) consists of:\n",
    "* __Option 1__: 1 $\\times$ `short put` contract with strike price $K_{1}$ USD/share and premium $\\mathcal{P}_{1}$ USD/share\n",
    "* __Option 2__: 1 $\\times$ `short call` contract with strike price $K_{2}$ USD/share and premium $\\mathcal{P}_{2}$ USD/share\n",
    "* __Option 3__: 1 $\\times$ `long call` contract with strike price $K_{3}>K_{2}$ USD/share and premium $\\mathcal{P}_{3}$ USD/share\n",
    "\n",
    "## Learning objectives\n",
    "The objective of `PS4` is to familiarize students with constructing profit diagrams at expiration for typical composite options contracts, i.e., the [Jade-Lizard](https://www.tastylive.com/concepts-strategies/jade-lizard).\n",
    "\n",
    "* __Task 1__: Create the option contract models for the `Jade Lizard`\n",
    "    * `TODO`: Create `short put`, `short call`, and `long call` contract models using the strike prices and premiums provided below\n",
    "* __Task 2__: Compute the profit array at expiration for the `Jade Lizard`\n",
    "    * `TODO`: Build an array of share prices at expiration from `45.0` to `85.0` (already completed for you)\n",
    "    * `TODO`: Compute the profit array at expiration using the `profit(...)` function.\n",
    "* __Task 3__: Compute the properties of the `Jade Lizard`\n",
    "    * `TODO`: Compute the breakeven point at expiration for the trade\n",
    "    * `TODO`: Compute the maximum profit and maximum loss for the trade\n",
    "    \n",
    "### Other resources\n",
    "There are several examples of computing a composite contract’s profit (loss) at expiration in the `L9a` lecture examples and the `L9b` lab. \n",
    "* Examples: https://github.com/varnerlab/CHEME-5660-Examples-F23.git\n",
    "* Labs: https://github.com/varnerlab/CHEME-5660-Labs-F23.git"
   ]
  },
  {
   "cell_type": "markdown",
   "id": "37e17028-64ed-4c37-a0c5-0627435301ff",
   "metadata": {},
   "source": [
    "## Setup\n",
    "We load the [VLQuantitativeFinancePackage.jl](https://github.com/varnerlab/VLQuantitativeFinancePackage.jl) package, and several other external [Julia](https://julialang.org/downloads/https://julialang.org/downloads/) packages, as well as some helper code, by calling the [include(...)](https://docs.julialang.org/en/v1/manual/code-loading/https://docs.julialang.org/en/v1/manual/code-loading/) command on the file `Include.jl`:"
   ]
  },
  {
   "cell_type": "code",
   "execution_count": 1,
   "id": "4d1e4c2b-0320-47e3-9663-e0d65f2d5395",
   "metadata": {
    "tags": []
   },
   "outputs": [],
   "source": [
    "include(\"Include.jl\");"
   ]
  },
  {
   "cell_type": "markdown",
   "id": "252676ff-d59b-49d6-b329-cb714647736c",
   "metadata": {},
   "source": [
    "### Strikes and Option prices"
   ]
  },
  {
   "cell_type": "code",
   "execution_count": null,
   "id": "987cb873-7e18-48ad-8d33-95d3dbfddf47",
   "metadata": {
    "tags": []
   },
   "outputs": [],
   "source": [
    "strike_price_array = [\n",
    "    60.0 ; # 1 short put\n",
    "    65.0 ; # 2 short call\n",
    "    70.0 ; # 4 long call\n",
    "];\n",
    "\n",
    "option_premium_array = [\n",
    "    4.95 ; # 1 short put\n",
    "    3.85 ; # 2 short call\n",
    "    2.25 ; # 3 long call\n",
    "];"
   ]
  },
  {
   "cell_type": "markdown",
   "id": "222bc2a1-b5e5-48fa-b4a8-5473dcb188d6",
   "metadata": {},
   "source": [
    "## Task 1: Create the option contract models for the `Jade Lizard`\n",
    "We can construct the contract models using the `build(...)` method. To do the profit diagram calculation at expiration, we need to pass in a few pieces of information into the `build(...)` method:\n",
    "\n",
    "* The profit diagram calculation requires passing the strike price `K`, the `premium` value, the `sense`, and the number of contracts in the `copy` parameter into the `build(...)` method for each contract model.\n",
    "\n",
    "For example, to construct a model of the short put leg of the trade, we issue the command (`sense = -1` means short):"
   ]
  },
  {
   "cell_type": "code",
   "execution_count": null,
   "id": "98398077-2177-4ee5-81db-04a11ff4d8f2",
   "metadata": {
    "tags": []
   },
   "outputs": [],
   "source": [
    "short_put_model = build(MyAmericanPutContractModel, (\n",
    "    K = strike_price_array[1] , premium = option_premium_array[1], sense = -1, copy = 1\n",
    "));"
   ]
  },
  {
   "cell_type": "markdown",
   "id": "eca6c22a-42d0-42d3-8f2c-7fc89b2c429c",
   "metadata": {},
   "source": [
    "Construct the `short call` leg of the trade, save this model in the `short_call_model` variable:"
   ]
  },
  {
   "cell_type": "code",
   "execution_count": null,
   "id": "fba28a2c-bdb4-4875-bac9-5c759449704d",
   "metadata": {
    "tags": []
   },
   "outputs": [],
   "source": [
    "short_call_model = build(MyAmericanCallContractModel, (\n",
    "    K = strike_price_array[2] , premium = option_premium_array[2], sense = -1, copy = 1\n",
    "));"
   ]
  },
  {
   "cell_type": "markdown",
   "id": "50327b10-8393-466d-a1d0-a6736306a2ad",
   "metadata": {},
   "source": [
    "Construct the `long call` leg of the trade, save this model in the `long_call_model` variable (`sense = 1` means long):"
   ]
  },
  {
   "cell_type": "code",
   "execution_count": null,
   "id": "cbaef471-ea7c-4cd7-8252-f7ee2bdb258a",
   "metadata": {
    "tags": []
   },
   "outputs": [],
   "source": [
    "long_call_model = build(MyAmericanCallContractModel, (\n",
    "    K = strike_price_array[3] , premium = option_premium_array[3], sense = 1, copy = 1\n",
    "));"
   ]
  },
  {
   "cell_type": "markdown",
   "id": "d4cbf958-ecbd-42b0-876f-9d90317a6ad8",
   "metadata": {},
   "source": [
    "## Task 2: Compute the profit array at expiration for the `Jade Lizard`\n",
    "Next, we generate an array of share prices at expiration and store them in the `S` array (we've already done this for you):"
   ]
  },
  {
   "cell_type": "code",
   "execution_count": null,
   "id": "63a48d05-7b41-41ea-a8e9-6771a3da3ed4",
   "metadata": {
    "tags": []
   },
   "outputs": [],
   "source": [
    "S = range(45.0, stop = 85.0, length = 1000) |> collect; # nothing to do here, move along ..."
   ]
  },
  {
   "cell_type": "markdown",
   "id": "7264fa1c-19f5-4603-a158-b19a24672620",
   "metadata": {},
   "source": [
    "Finally, we can compute the `profit` for the [Jade Lizard](https://www.tastylive.com/concepts-strategies/jade-lizard) by calling the `profit(...)` function. \n",
    "* Pass in an array of contract models as the first argument and the array of share prices at expiration `S` as the second argument to the `profit(…)` function. The `profit(…)` function returns an array holding the share price at expiration in `col 1`, the P/L for each leg in `col 2 ... col C`, and the overall P/L in the last column. Each row corresponds to a different share price at expiration.\n",
    "\n",
    "Let's store the output from the `profit(...)` function in the `profit_array` variable:"
   ]
  },
  {
   "cell_type": "code",
   "execution_count": null,
   "id": "8c4da0e7-ebc7-4d2d-b13f-3be8817e6b41",
   "metadata": {
    "tags": []
   },
   "outputs": [],
   "source": [
    "profit_array = profit([short_call_model, short_put_model, long_call_model], S)"
   ]
  },
  {
   "cell_type": "markdown",
   "id": "b064fd4d-2f80-4c4d-bcc8-29c77b960b66",
   "metadata": {},
   "source": [
    "### Visualize\n",
    "We plot the share price at expiration versus the profit with the help of `plot(...)` functions from the [Plots.jl](https://github.com/JuliaPlots/Plots.jl) package:"
   ]
  },
  {
   "cell_type": "code",
   "execution_count": null,
   "id": "750e71c9-2487-4e33-9672-ede01a4281e7",
   "metadata": {
    "tags": []
   },
   "outputs": [],
   "source": [
    "plot(profit_array[:,1], profit_array[:,end], lw=4, c=:black, label=\"Overall\")\n",
    "plot!(profit_array[:,1], profit_array[:,2], lw=2, label=\"Short Put\", c=:navyblue, ls=:dash)\n",
    "plot!(profit_array[:,1], profit_array[:,3], lw=2, label=\"Short Call\", c=:red, ls=:dash)\n",
    "plot!(profit_array[:,1], profit_array[:,4], lw=2, label=\"Long Call\", c=:orange, ls=:dash)\n",
    "xlabel!(\"Share price at expiration S(T) (USD/share)\", fontsize=18)\n",
    "ylabel!(\"Profit at Expiration (USD/share)\", fontsize=18)"
   ]
  },
  {
   "cell_type": "markdown",
   "id": "0914863f-e8bf-465b-81b0-5fbb92b24753",
   "metadata": {},
   "source": [
    "## Task 3: Compute the properties of the `Jade Lizard`\n",
    "* `TODO`: Compute the breakeven point at expiration for the trade \n",
    "    * Develop an analytical expression for the break-even, check your analytical value using the P/L graph\n",
    "    \n",
    "* `TODO`: Compute the maximum profit and maximum loss for the trade\n",
    "    * Develop an analytical expression for the maximum profit, check your value using the P/L graph"
   ]
  },
  {
   "cell_type": "markdown",
   "id": "806e039d",
   "metadata": {},
   "source": [
    "The Analytical expression for breakpoint would be when P, profit would be 0 in the formula: P = -(K1-S)^{+} - (S-K2)^{+} + (S-K3)^{+} + (P1 +P2  - P3)\n",
    "\n",
    "Where K1-S correponds to short put, K1-S correponds to short call, K1-S correponds to long call, and P1, p2, P3 corresponds to the three types of option premiums \n",
    "\n",
    "Looking at the profit diagram, the break off happends, strike price is more than share price so we can come up with equation => (-K1- S)+(P1 +P2  - P3) = 0\n",
    "\n",
    "The final equaltion = S = K1 + (P1 +P2  - P3)\n"
   ]
  },
  {
   "cell_type": "code",
   "execution_count": null,
   "id": "de611781",
   "metadata": {},
   "outputs": [],
   "source": [
    "breakeven_share_price = strike_price_array[1] - (option_premium_array[1] + option_premium_array[2] - option_premium_array[3]);\n",
    "println(\"The breakeven point is: $(breakeven_share_price) USD per share\")"
   ]
  },
  {
   "cell_type": "markdown",
   "id": "cb664a63",
   "metadata": {},
   "source": [
    "The maximum loss is not defined or cannot be calculated to the exact number for the Jade Lizard beacause S would tend to be 0 but not exactly 0. \n",
    " For the maximum profit, we can substitute any share price between K1 and K2, so the midpoint value of S  = (K1 +K2)/{2} into the profit expression above, which gives the maximum profit:\n",
    "\n",
    "max profit = P1 +P2 -P3"
   ]
  },
  {
   "cell_type": "code",
   "execution_count": null,
   "id": "8b0ad745",
   "metadata": {},
   "outputs": [],
   "source": [
    "max_profit_jade_lizard = (option_premium_array[1] + option_premium_array[2] - option_premium_array[3]);\n",
    "println(\"The maximum profit is: $(max_profit_jade_lizard) USD per share\")"
   ]
  },
  {
   "cell_type": "markdown",
   "id": "b4e3f870-1805-4069-8918-0a8c2567014d",
   "metadata": {},
   "source": [
    "## Disclaimer and Risks\n",
    "\n",
    "__This content is offered solely for training and informational purposes__. No offer or solicitation to buy or sell securities or derivative products or any investment or trading advice or strategy is made, given, or endorsed by the teaching team.\n",
    "\n",
    "__Trading involves risk__. Carefully review your financial situation before investing in securities, futures contracts, options, or commodity interests. Past performance, whether actual or indicated by historical tests of strategies, is no guarantee of future performance or success. Trading is generally inappropriate for someone with limited resources, investment or trading experience, or a low-risk tolerance. Only risk capital that is not required for living expenses.\n",
    "\n",
    "__You are fully responsible for any investment or trading decisions you make__. Such decisions should be based solely on evaluating your financial circumstances, investment or trading objectives, risk tolerance, and liquidity needs."
   ]
  }
 ],
 "metadata": {
  "kernelspec": {
   "display_name": "Julia 1.9.2",
   "language": "julia",
   "name": "julia-1.9"
  },
  "language_info": {
   "file_extension": ".jl",
   "mimetype": "application/julia",
   "name": "julia",
   "version": "1.9.2"
  }
 },
 "nbformat": 4,
 "nbformat_minor": 5
}
